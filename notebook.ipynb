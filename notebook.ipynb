{
 "cells": [
  {
   "cell_type": "code",
   "execution_count": 22,
   "metadata": {},
   "outputs": [],
   "source": [
    "from odes.models import SIR\n",
    "from odes.integrator import integrator\n",
    "from odes.neural_ODE import nUIV_NODE\n",
    "import torch\n",
    "# import torch.nn as nn\n",
    "import torch.optim as optim\n",
    "import numpy as np\n",
    "import matplotlib.pyplot as plt\n",
    "import os\n",
    "import pickle"
   ]
  },
  {
   "cell_type": "code",
   "execution_count": 23,
   "metadata": {},
   "outputs": [],
   "source": [
    "# helper function to step the SIR model forward and generate a data set\n",
    "def generate_SIR_data(model, num_steps):\n",
    "    t = torch.zeros(num_steps)\n",
    "    y = torch.zeros(3, num_steps)\n",
    "    y[:, 0] = torch.from_numpy(model.x)\n",
    "    t[0] = torch.tensor(0.0)\n",
    "    for i in range(num_steps):\n",
    "        y[:, i] = torch.from_numpy(model.step())\n",
    "        t[i] = torch.tensor(model.t)\n",
    "    return y, t\n",
    "\n",
    "\n",
    "def lp_norm_loss(y, yhat, p=2):\n",
    "    return torch.norm(y-yhat, p=p)"
   ]
  },
  {
   "cell_type": "code",
   "execution_count": 24,
   "metadata": {},
   "outputs": [],
   "source": [
    "# setting up SIR reference data\n",
    "num_hosts = 2\n",
    "num_steps = 5\n",
    "dt = 0.05\n",
    "torch.manual_seed(666)\n",
    "\n",
    "time_scale = 25.0  # can make time \"move faster\" by scaling these constants beyond [0, 1]\n",
    "beta = time_scale*0.9  # infection rate\n",
    "gamma = time_scale*0.01  # recovery rate\n",
    "SIR_ODE = SIR(num_hosts, beta, gamma)\n",
    "SIR_x0 = np.array([0.75, 0.25, 0.0])\n",
    "\n",
    "\n",
    "# generate data\n",
    "SIR_stepper = integrator(SIR_ODE, SIR_x0, dt)\n",
    "SIR_train_data, time_train_data = generate_SIR_data(SIR_stepper, num_steps)"
   ]
  },
  {
   "cell_type": "code",
   "execution_count": 25,
   "metadata": {},
   "outputs": [
    {
     "data": {
      "image/png": "[encoded data removed]",
      "text/plain": [
       "<Figure size 640x480 with 1 Axes>"
      ]
     },
     "metadata": {},
     "output_type": "display_data"
    }
   ],
   "source": [
    "plt.plot(time_train_data, SIR_train_data.T)\n",
    "plt.legend([\"S\",\"I\",\"R\"])\n",
    "plt.show()"
   ]
  },
  {
   "cell_type": "code",
   "execution_count": 26,
   "metadata": {},
   "outputs": [],
   "source": [
    "# build model and fit it\n",
    "method = 'euler'\n",
    "step_size = 2*dt\n",
    "# build model and fit it\n",
    "device = 'cpu'  # torch.device('cuda:0' if torch.cuda.is_available() else 'cpu')\n",
    "model = nUIV_NODE(num_hosts, method=method, step_size=step_size).to(device)\n",
    "num_epochs = 200\n",
    "optimizer = optim.Adam(model.parameters(), lr=1e-1, weight_decay=0.0)\n",
    "scheduler = optim.lr_scheduler.ReduceLROnPlateau(optimizer, factor=0.5, patience=10, verbose=True)\n",
    "loss_function = lambda y, yhat: lp_norm_loss(y, yhat, p=2)  # nn.L1Loss()"
   ]
  },
  {
   "cell_type": "code",
   "execution_count": 27,
   "metadata": {},
   "outputs": [],
   "source": [
    "train_beta = torch.tensor([1.35e-7,1.26e-7,5.24e-7,7.92e-10,1.51e-7,5.74e-10,1.23e-7,2.62e-9,3.08e-10])\n",
    "log_train_beta = torch.log10(train_beta)\n",
    "train_delta = torch.tensor([0.61,0.81,0.51,1.21,2.01,0.81,0.91,1.61,2.01])\n",
    "#train_p = torch.tensor([0.2,0.2,0.2,361.6,0.2,382,0.2,278.2,299])\n",
    "#log_train_p = torch.log10(train_p)\n",
    "train_p = torch.tensor([0.2,0.2,0.2,0.2,0.2,0.2,0.2,0.2,0.2])\n",
    "train_c = 2.4*torch.ones(9)\n",
    "\n",
    "#train_params = torch.tensor([torch.mean(log_train_beta),torch.mean(train_delta),torch.mean(log_train_p),torch.mean(train_c)])\n",
    "train_params = torch.cat((torch.mean(log_train_beta)*torch.ones(num_hosts),torch.mean(train_delta)*torch.ones(num_hosts),torch.mean(train_p)*torch.ones(num_hosts),torch.mean(train_c)*torch.ones(num_hosts)))\n",
    "\n",
    "com_train = torch.cat((SIR_train_data[1,:],0.01*train_params,torch.zeros(num_hosts)))"
   ]
  },
  {
   "cell_type": "code",
   "execution_count": 28,
   "metadata": {},
   "outputs": [
    {
     "name": "stdout",
     "output_type": "stream",
     "text": [
      "tensor([ 3.5438e-01,  3.5717e-01,  3.5998e-01,  3.6226e-01,  3.6456e-01,\n",
      "        -9.5861e-03, -2.1451e-02,  3.2860e-03,  6.2411e-07,  7.7168e-03,\n",
      "         2.7893e-03,  6.3514e-04,  3.0445e-03,  1.0240e-02],\n",
      "       grad_fn=<CatBackward0>)\n",
      "torch.Size([14])\n",
      "tensor([ 0.3523,  0.4757,  0.6080,  0.7299,  0.8230, -0.0780, -0.0780,  0.0117,\n",
      "         0.0117,  0.0020,  0.0020,  0.0240,  0.0240,  0.0000,  0.0000])\n",
      "torch.Size([15])\n"
     ]
    },
    {
     "ename": "RuntimeError",
     "evalue": "The size of tensor a (14) must match the size of tensor b (15) at non-singleton dimension 0",
     "output_type": "error",
     "traceback": [
      "\u001b[1;31m---------------------------------------------------------------------------\u001b[0m",
      "\u001b[1;31mRuntimeError\u001b[0m                              Traceback (most recent call last)",
      "Cell \u001b[1;32mIn[28], line 31\u001b[0m\n\u001b[0;32m     28\u001b[0m \u001b[38;5;28mprint\u001b[39m(com_train)\n\u001b[0;32m     29\u001b[0m \u001b[38;5;28mprint\u001b[39m(com_train\u001b[38;5;241m.\u001b[39mshape)\n\u001b[1;32m---> 31\u001b[0m loss \u001b[38;5;241m=\u001b[39m \u001b[43mloss_function\u001b[49m\u001b[43m(\u001b[49m\u001b[43mcom_est\u001b[49m\u001b[43m,\u001b[49m\u001b[43m \u001b[49m\u001b[43mcom_train\u001b[49m\u001b[38;5;241;43m.\u001b[39;49m\u001b[43mto\u001b[49m\u001b[43m(\u001b[49m\u001b[43mdevice\u001b[49m\u001b[43m)\u001b[49m\u001b[43m)\u001b[49m\n\u001b[0;32m     32\u001b[0m \u001b[38;5;66;03m#loss = loss_function(SIR_est, SIR_train_data.to(device))\u001b[39;00m\n\u001b[0;32m     33\u001b[0m loss_val \u001b[38;5;241m=\u001b[39m loss\u001b[38;5;241m.\u001b[39mitem()\n",
      "Cell \u001b[1;32mIn[26], line 10\u001b[0m, in \u001b[0;36m<lambda>\u001b[1;34m(y, yhat)\u001b[0m\n\u001b[0;32m      8\u001b[0m optimizer \u001b[38;5;241m=\u001b[39m optim\u001b[38;5;241m.\u001b[39mAdam(model\u001b[38;5;241m.\u001b[39mparameters(), lr\u001b[38;5;241m=\u001b[39m\u001b[38;5;241m1e-1\u001b[39m, weight_decay\u001b[38;5;241m=\u001b[39m\u001b[38;5;241m0.0\u001b[39m)\n\u001b[0;32m      9\u001b[0m scheduler \u001b[38;5;241m=\u001b[39m optim\u001b[38;5;241m.\u001b[39mlr_scheduler\u001b[38;5;241m.\u001b[39mReduceLROnPlateau(optimizer, factor\u001b[38;5;241m=\u001b[39m\u001b[38;5;241m0.5\u001b[39m, patience\u001b[38;5;241m=\u001b[39m\u001b[38;5;241m10\u001b[39m, verbose\u001b[38;5;241m=\u001b[39m\u001b[38;5;28;01mTrue\u001b[39;00m)\n\u001b[1;32m---> 10\u001b[0m loss_function \u001b[38;5;241m=\u001b[39m \u001b[38;5;28;01mlambda\u001b[39;00m y, yhat: \u001b[43mlp_norm_loss\u001b[49m\u001b[43m(\u001b[49m\u001b[43my\u001b[49m\u001b[43m,\u001b[49m\u001b[43m \u001b[49m\u001b[43myhat\u001b[49m\u001b[43m,\u001b[49m\u001b[43m \u001b[49m\u001b[43mp\u001b[49m\u001b[38;5;241;43m=\u001b[39;49m\u001b[38;5;241;43m2\u001b[39;49m\u001b[43m)\u001b[49m\n",
      "Cell \u001b[1;32mIn[23], line 14\u001b[0m, in \u001b[0;36mlp_norm_loss\u001b[1;34m(y, yhat, p)\u001b[0m\n\u001b[0;32m     13\u001b[0m \u001b[38;5;28;01mdef\u001b[39;00m \u001b[38;5;21mlp_norm_loss\u001b[39m(y, yhat, p\u001b[38;5;241m=\u001b[39m\u001b[38;5;241m2\u001b[39m):\n\u001b[1;32m---> 14\u001b[0m     \u001b[38;5;28;01mreturn\u001b[39;00m torch\u001b[38;5;241m.\u001b[39mnorm(\u001b[43my\u001b[49m\u001b[38;5;241;43m-\u001b[39;49m\u001b[43myhat\u001b[49m, p\u001b[38;5;241m=\u001b[39mp)\n",
      "\u001b[1;31mRuntimeError\u001b[0m: The size of tensor a (14) must match the size of tensor b (15) at non-singleton dimension 0"
     ]
    }
   ],
   "source": [
    "for epoch in range(num_epochs):\n",
    "    optimizer.zero_grad()\n",
    "    SIR_est = model.simulate(time_train_data.to(device)).to(device)\n",
    "    # print(SIR_est)\n",
    "    UIV_x0_est = model.nUIV_x0\n",
    "    #UIV_x0_est = UIV_x0_est.T\n",
    "    #UIV_U0_est = UIV_x0_est[::3]\n",
    "    #UIV_I0_est = UIV_x0_est[1::3]\n",
    "    #UIV_V0_est = UIV_x0_est[2::3]\n",
    "    #com_est = torch.cat((SIR_est[1,:],1/5*torch.log10(UIV_U0_est),1/5*UIV_I0_est,1/5*torch.log10(UIV_V0_est)),dim=0)\n",
    "\n",
    "    beta_est = model.nUIV_dynamics.betas\n",
    "    log_beta_est = torch.log10(beta_est)\n",
    "    delta_est = model.nUIV_dynamics.deltas\n",
    "    p_est = model.nUIV_dynamics.ps\n",
    "    log_p_est = torch.log10(p_est)\n",
    "    c_est = model.nUIV_dynamics.cs\n",
    "\n",
    "    #params_est = torch.tensor([torch.mean(log_beta_est),torch.mean(delta_est),torch.mean(log_p_est),torch.mean(c_est)])\n",
    "    params_est = torch.cat((log_beta_est,delta_est,p_est,c_est))\n",
    "    \n",
    "    # print(\"UIV est\", UIV_x0_est[3::3])\n",
    "    com_est = torch.cat((SIR_est[1,:],0.01*params_est,UIV_x0_est[3::3]))\n",
    "    # print(SIR_est[1,:])\n",
    "    print(UIV_x0_est[3::3])\n",
    "    print(UIV_x0_est[3::3].shape)\n",
    "\n",
    "    print(torch.zeros(num_hosts))\n",
    "    print(torch.zeros(num_hosts).shape)\n",
    "\n",
    "    loss = loss_function(com_est, com_train.to(device))\n",
    "    #loss = loss_function(SIR_est, SIR_train_data.to(device))\n",
    "    loss_val = loss.item()\n",
    "    loss.backward()\n",
    "    optimizer.step()\n",
    "    scheduler.step(loss_val)\n",
    "\n",
    "    print(f'Epoch {epoch}, loss value: {loss_val}.')\n",
    "    if torch.isnan(loss):\n",
    "        raise ValueError('Found NaN loss, exiting...')\n",
    "    break"
   ]
  },
  {
   "cell_type": "code",
   "execution_count": null,
   "metadata": {},
   "outputs": [
    {
     "name": "stdout",
     "output_type": "stream",
     "text": [
      "Parameter name: nUIV_dynamics.parametrizations.betas.original, Gradient: tensor([0.0009, 0.0330])\n",
      "Parameter name: nUIV_dynamics.parametrizations.deltas.original, Gradient: tensor([-2.2254e-05, -7.7624e-05])\n",
      "Parameter name: nUIV_dynamics.parametrizations.cs.original, Gradient: tensor([0.0013, 0.0140])\n",
      "Parameter name: nUIV_dynamics.parametrizations.ps.original, Gradient: tensor([-5.2518e-03,  4.0502e-05])\n",
      "Parameter name: nUIV_dynamics.parametrizations.ts.original, Gradient: tensor([[ 0.0023, -0.0008],\n",
      "        [-0.0005,  0.0369]])\n",
      "Parameter name: nUIV_to_SIR.slope, Gradient: tensor([0.0354])\n",
      "Parameter name: nUIV_to_SIR.threshold, Gradient: tensor([1.8385])\n",
      "Parameter name: nUIV_to_SIR.W.weight, Gradient: None\n",
      "Parameter name: parametrizations.nUIV_x0.original, Gradient: tensor([-1.6743e-06, -9.6494e-03, -1.0381e-01,  1.7273e-03, -1.1308e-08,\n",
      "        -4.5153e-03, -6.0954e-01,  1.0101e-03])\n",
      "{'beta': array([0.22395402, 0.00848239], dtype=float32), 'delta': array([0.12388617, 0.42478874], dtype=float32), 'p': array([0.35530695, 0.7729223 ], dtype=float32), 'c': array([0.60598797, 0.1833046 ], dtype=float32), 't': array([[1.4181389 , 0.11815308],\n",
      "       [0.01755247, 1.6264336 ]], dtype=float32), 'x0': array([1.6917592e-01, 1.3699917e-01, 4.4851165e-02, 1.4185641e-06,\n",
      "       5.7955835e-02, 1.3940609e-02, 1.8633187e-01, 2.3653233e-04],\n",
      "      dtype=float32), 'nUIV_to_SIR': {'slope': array([10.711087], dtype=float32), 'threshold': array([0.16674009], dtype=float32)}}\n"
     ]
    }
   ],
   "source": [
    "for name, param in model.named_parameters():\n",
    "    if param.requires_grad:\n",
    "        print(f\"Parameter name: {name}, Gradient: {param.grad}\")\n",
    "\n",
    "\n",
    "nUIV_params = model.get_params()\n",
    "SIR_params = {'beta': beta,\n",
    "              'gamma': gamma,\n",
    "              'x0': SIR_x0,\n",
    "              'num_hosts': num_hosts}\n",
    "\n",
    "sim_params = {'SIR': SIR_params,\n",
    "              'nUIV': nUIV_params}\n",
    "\n",
    "print(nUIV_params)"
   ]
  },
  {
   "cell_type": "code",
   "execution_count": null,
   "metadata": {},
   "outputs": [],
   "source": []
  }
 ],
 "metadata": {
  "kernelspec": {
   "display_name": "base",
   "language": "python",
   "name": "python3"
  },
  "language_info": {
   "codemirror_mode": {
    "name": "ipython",
    "version": 3
   },
   "file_extension": ".py",
   "mimetype": "text/x-python",
   "name": "python",
   "nbconvert_exporter": "python",
   "pygments_lexer": "ipython3",
   "version": "3.9.17"
  }
 },
 "nbformat": 4,
 "nbformat_minor": 2
}
